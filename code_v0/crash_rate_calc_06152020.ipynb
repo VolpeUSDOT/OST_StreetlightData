{
 "cells": [
  {
   "cell_type": "code",
   "execution_count": 1,
   "metadata": {},
   "outputs": [],
   "source": [
    "import pandas as pd\n",
    "import geopandas as gpd"
   ]
  },
  {
   "cell_type": "code",
   "execution_count": 2,
   "metadata": {},
   "outputs": [],
   "source": [
    "veh = gpd.GeoDataFrame(pd.read_csv('../data/output/crash/all_crash.csv'))\n",
    "ped = gpd.GeoDataFrame(pd.read_csv('../data/output/crash/pedestrians_crash.csv'))\n",
    "bic = gpd.GeoDataFrame(pd.read_csv('../data/output/crash/bicycle_crash.csv'))"
   ]
  },
  {
   "cell_type": "code",
   "execution_count": 3,
   "metadata": {},
   "outputs": [],
   "source": [
    "# Calculate mev to have scaled traffic value https://safety.fhwa.dot.gov/local_rural/training/fhwasa14072/sec4.cfm\n",
    "ped['mev'] = ((ped['vehicle_volume'] * ped['pedestrian_volume'])*365*11)/1000000\n",
    "bic['mev'] = ((bic['vehicle_volume'] * bic['bicycle_volume'])*365*11)/1000000\n",
    "\n",
    "# All crashes included\n",
    "veh['mev_ped'] = ((veh['vehicle_volume'] * veh['pedestrian_volume'])*365*11)/1000000\n",
    "veh['mev_bic'] = ((veh['vehicle_volume'] * veh['bicycle_volume'])*365*11)/1000000\n",
    "\n",
    "\n",
    "# Crash Rate\n",
    "ped['crash_rate'] = ped['total_crash']/ped['mev']\n",
    "bic['crash_rate'] = bic['total_crash']/bic['mev']\n",
    "\n",
    "veh['ped_crash_rate'] = veh['total_crash']/veh['mev_ped']\n",
    "veh['bic_crash_rate'] = veh['total_crash']/veh['mev_bic']"
   ]
  },
  {
   "cell_type": "code",
   "execution_count": 4,
   "metadata": {},
   "outputs": [
    {
     "data": {
      "text/plain": [
       "<matplotlib.axes._subplots.AxesSubplot at 0x1b388a1d9b0>"
      ]
     },
     "execution_count": 4,
     "metadata": {},
     "output_type": "execute_result"
    }
   ],
   "source": [
    "ax = veh['ped_crash_rate'].plot.hist(bins=50, alpha=0.5)\n",
    "ax.set_xticklabels(veh['ped_crash_rate'], rotation=90)\n",
    "ax"
   ]
  },
  {
   "cell_type": "code",
   "execution_count": 6,
   "metadata": {},
   "outputs": [],
   "source": [
    "veh.to_csv('../data/output/vehicle_ped_bic_crash_rate_06172020.csv')"
   ]
  },
  {
   "cell_type": "code",
   "execution_count": null,
   "metadata": {},
   "outputs": [],
   "source": []
  }
 ],
 "metadata": {
  "kernelspec": {
   "display_name": "Python 3",
   "language": "python",
   "name": "python3"
  },
  "language_info": {
   "codemirror_mode": {
    "name": "ipython",
    "version": 3
   },
   "file_extension": ".py",
   "mimetype": "text/x-python",
   "name": "python",
   "nbconvert_exporter": "python",
   "pygments_lexer": "ipython3",
   "version": "3.7.7"
  }
 },
 "nbformat": 4,
 "nbformat_minor": 2
}
