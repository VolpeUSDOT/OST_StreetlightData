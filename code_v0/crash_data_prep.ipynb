{
 "cells": [
  {
   "cell_type": "markdown",
   "metadata": {},
   "source": [
    "# Crash data prep\n",
    "\n",
    "Data downloaded from [PennDOT webapp](https://pennshare.maps.arcgis.com/apps/webappviewer/index.html?id=8fdbf046e36e41649bbfd9d7dd7c7e7e)\n",
    "\n",
    "Read in csv file for each year, output shapefile of crash data to join with Streetlight data\n"
   ]
  },
  {
   "cell_type": "code",
   "execution_count": 2,
   "metadata": {},
   "outputs": [],
   "source": [
    "import pandas as pd\n",
    "import geopandas as gpd\n",
    "from shapely.geometry import Point\n",
    "import os\n",
    "\n",
    "data_root = r'C:\\Users\\Daniel.Flynn\\Documents\\git\\stld\\data'"
   ]
  },
  {
   "cell_type": "code",
   "execution_count": 4,
   "metadata": {},
   "outputs": [
    {
     "data": {
      "text/plain": [
       "0   -75.1519\n",
       "1   -75.0841\n",
       "2   -75.0058\n",
       "3   -75.1793\n",
       "4   -75.1600\n",
       "Name: DEC_LONG, dtype: float64"
      ]
     },
     "execution_count": 4,
     "metadata": {},
     "output_type": "execute_result"
    }
   ],
   "source": [
    "# 2018\n",
    "crash_2018 = pd.read_csv(os.path.join(data_root, 'crash', 'CRASH_2018_Philadelphia.csv'))\n",
    "crash_2018['DEC_LONG'].head()"
   ]
  },
  {
   "cell_type": "code",
   "execution_count": 5,
   "metadata": {},
   "outputs": [],
   "source": [
    "# Cast Variables\n",
    "crash_2018 = crash_2018.astype({'DEC_LAT':'float', 'DEC_LONG':'float'})"
   ]
  },
  {
   "cell_type": "code",
   "execution_count": 6,
   "metadata": {},
   "outputs": [
    {
     "data": {
      "text/html": [
       "<div>\n",
       "<style scoped>\n",
       "    .dataframe tbody tr th:only-of-type {\n",
       "        vertical-align: middle;\n",
       "    }\n",
       "\n",
       "    .dataframe tbody tr th {\n",
       "        vertical-align: top;\n",
       "    }\n",
       "\n",
       "    .dataframe thead th {\n",
       "        text-align: right;\n",
       "    }\n",
       "</style>\n",
       "<table border=\"1\" class=\"dataframe\">\n",
       "  <thead>\n",
       "    <tr style=\"text-align: right;\">\n",
       "      <th></th>\n",
       "      <th>CRN</th>\n",
       "      <th>DISTRICT</th>\n",
       "      <th>COUNTY</th>\n",
       "      <th>MUNICIPALITY</th>\n",
       "      <th>POLICE_AGCY</th>\n",
       "      <th>CRASH_YEAR</th>\n",
       "      <th>CRASH_MONTH</th>\n",
       "      <th>DAY_OF_WEEK</th>\n",
       "      <th>TIME_OF_DAY</th>\n",
       "      <th>HOUR_OF_DAY</th>\n",
       "      <th>...</th>\n",
       "      <th>PED_MAJ_INJ_COUNT</th>\n",
       "      <th>MAX_SEVERITY_LEVEL</th>\n",
       "      <th>COMM_VEH_COUNT</th>\n",
       "      <th>DEC_LAT</th>\n",
       "      <th>DEC_LONG</th>\n",
       "      <th>RDWY_SURF_TYPE_CD</th>\n",
       "      <th>COUNTY_NAME</th>\n",
       "      <th>MUNICIPALITY_NAME</th>\n",
       "      <th>COUNTY_YEAR</th>\n",
       "      <th>geometry</th>\n",
       "    </tr>\n",
       "  </thead>\n",
       "  <tbody>\n",
       "    <tr>\n",
       "      <th>0</th>\n",
       "      <td>2018001306</td>\n",
       "      <td>6</td>\n",
       "      <td>67</td>\n",
       "      <td>67301</td>\n",
       "      <td>67505</td>\n",
       "      <td>2018</td>\n",
       "      <td>1</td>\n",
       "      <td>3</td>\n",
       "      <td>953</td>\n",
       "      <td>9</td>\n",
       "      <td>...</td>\n",
       "      <td>0</td>\n",
       "      <td>4</td>\n",
       "      <td>0</td>\n",
       "      <td>39.9857</td>\n",
       "      <td>-75.1519</td>\n",
       "      <td>NaN</td>\n",
       "      <td>Philadelphia</td>\n",
       "      <td>Philadelphia City</td>\n",
       "      <td>CRASH_2018_Philadelphia</td>\n",
       "      <td>POINT (-75.15190 39.98570)</td>\n",
       "    </tr>\n",
       "    <tr>\n",
       "      <th>1</th>\n",
       "      <td>2018006142</td>\n",
       "      <td>6</td>\n",
       "      <td>67</td>\n",
       "      <td>67301</td>\n",
       "      <td>68K01</td>\n",
       "      <td>2018</td>\n",
       "      <td>1</td>\n",
       "      <td>5</td>\n",
       "      <td>934</td>\n",
       "      <td>9</td>\n",
       "      <td>...</td>\n",
       "      <td>0</td>\n",
       "      <td>3</td>\n",
       "      <td>0</td>\n",
       "      <td>39.9946</td>\n",
       "      <td>-75.0841</td>\n",
       "      <td>NaN</td>\n",
       "      <td>Philadelphia</td>\n",
       "      <td>Philadelphia City</td>\n",
       "      <td>CRASH_2018_Philadelphia</td>\n",
       "      <td>POINT (-75.08410 39.99460)</td>\n",
       "    </tr>\n",
       "    <tr>\n",
       "      <th>2</th>\n",
       "      <td>2018004176</td>\n",
       "      <td>6</td>\n",
       "      <td>67</td>\n",
       "      <td>67301</td>\n",
       "      <td>68K01</td>\n",
       "      <td>2018</td>\n",
       "      <td>1</td>\n",
       "      <td>1</td>\n",
       "      <td>1734</td>\n",
       "      <td>17</td>\n",
       "      <td>...</td>\n",
       "      <td>0</td>\n",
       "      <td>0</td>\n",
       "      <td>0</td>\n",
       "      <td>40.0402</td>\n",
       "      <td>-75.0058</td>\n",
       "      <td>NaN</td>\n",
       "      <td>Philadelphia</td>\n",
       "      <td>Philadelphia City</td>\n",
       "      <td>CRASH_2018_Philadelphia</td>\n",
       "      <td>POINT (-75.00580 40.04020)</td>\n",
       "    </tr>\n",
       "    <tr>\n",
       "      <th>3</th>\n",
       "      <td>2018005229</td>\n",
       "      <td>6</td>\n",
       "      <td>67</td>\n",
       "      <td>67301</td>\n",
       "      <td>68K01</td>\n",
       "      <td>2018</td>\n",
       "      <td>1</td>\n",
       "      <td>2</td>\n",
       "      <td>358</td>\n",
       "      <td>3</td>\n",
       "      <td>...</td>\n",
       "      <td>0</td>\n",
       "      <td>0</td>\n",
       "      <td>0</td>\n",
       "      <td>39.9599</td>\n",
       "      <td>-75.1793</td>\n",
       "      <td>NaN</td>\n",
       "      <td>Philadelphia</td>\n",
       "      <td>Philadelphia City</td>\n",
       "      <td>CRASH_2018_Philadelphia</td>\n",
       "      <td>POINT (-75.17930 39.95990)</td>\n",
       "    </tr>\n",
       "    <tr>\n",
       "      <th>4</th>\n",
       "      <td>2018002147</td>\n",
       "      <td>6</td>\n",
       "      <td>67</td>\n",
       "      <td>67301</td>\n",
       "      <td>67505</td>\n",
       "      <td>2018</td>\n",
       "      <td>1</td>\n",
       "      <td>5</td>\n",
       "      <td>2151</td>\n",
       "      <td>21</td>\n",
       "      <td>...</td>\n",
       "      <td>0</td>\n",
       "      <td>0</td>\n",
       "      <td>0</td>\n",
       "      <td>39.9805</td>\n",
       "      <td>-75.1600</td>\n",
       "      <td>NaN</td>\n",
       "      <td>Philadelphia</td>\n",
       "      <td>Philadelphia City</td>\n",
       "      <td>CRASH_2018_Philadelphia</td>\n",
       "      <td>POINT (-75.16000 39.98050)</td>\n",
       "    </tr>\n",
       "  </tbody>\n",
       "</table>\n",
       "<p>5 rows × 92 columns</p>\n",
       "</div>"
      ],
      "text/plain": [
       "          CRN  DISTRICT  COUNTY  MUNICIPALITY POLICE_AGCY  CRASH_YEAR  \\\n",
       "0  2018001306         6      67         67301       67505        2018   \n",
       "1  2018006142         6      67         67301       68K01        2018   \n",
       "2  2018004176         6      67         67301       68K01        2018   \n",
       "3  2018005229         6      67         67301       68K01        2018   \n",
       "4  2018002147         6      67         67301       67505        2018   \n",
       "\n",
       "   CRASH_MONTH  DAY_OF_WEEK  TIME_OF_DAY  HOUR_OF_DAY  ...  PED_MAJ_INJ_COUNT  \\\n",
       "0            1            3          953            9  ...                  0   \n",
       "1            1            5          934            9  ...                  0   \n",
       "2            1            1         1734           17  ...                  0   \n",
       "3            1            2          358            3  ...                  0   \n",
       "4            1            5         2151           21  ...                  0   \n",
       "\n",
       "   MAX_SEVERITY_LEVEL  COMM_VEH_COUNT  DEC_LAT  DEC_LONG  RDWY_SURF_TYPE_CD  \\\n",
       "0                   4               0  39.9857  -75.1519                NaN   \n",
       "1                   3               0  39.9946  -75.0841                NaN   \n",
       "2                   0               0  40.0402  -75.0058                NaN   \n",
       "3                   0               0  39.9599  -75.1793                NaN   \n",
       "4                   0               0  39.9805  -75.1600                NaN   \n",
       "\n",
       "    COUNTY_NAME  MUNICIPALITY_NAME              COUNTY_YEAR  \\\n",
       "0  Philadelphia  Philadelphia City  CRASH_2018_Philadelphia   \n",
       "1  Philadelphia  Philadelphia City  CRASH_2018_Philadelphia   \n",
       "2  Philadelphia  Philadelphia City  CRASH_2018_Philadelphia   \n",
       "3  Philadelphia  Philadelphia City  CRASH_2018_Philadelphia   \n",
       "4  Philadelphia  Philadelphia City  CRASH_2018_Philadelphia   \n",
       "\n",
       "                     geometry  \n",
       "0  POINT (-75.15190 39.98570)  \n",
       "1  POINT (-75.08410 39.99460)  \n",
       "2  POINT (-75.00580 40.04020)  \n",
       "3  POINT (-75.17930 39.95990)  \n",
       "4  POINT (-75.16000 39.98050)  \n",
       "\n",
       "[5 rows x 92 columns]"
      ]
     },
     "execution_count": 6,
     "metadata": {},
     "output_type": "execute_result"
    }
   ],
   "source": [
    "crash_2018 = gpd.GeoDataFrame(crash_2018, crs={'init':'espg:4326'},\n",
    "                              geometry=[Point(xy) for xy in zip(crash_2018.DEC_LONG, crash_2018.DEC_LAT)])\n",
    "crash_2018.head()"
   ]
  },
  {
   "cell_type": "code",
   "execution_count": 7,
   "metadata": {},
   "outputs": [
    {
     "data": {
      "text/plain": [
       "{'init': 'espg:4326'}"
      ]
     },
     "execution_count": 7,
     "metadata": {},
     "output_type": "execute_result"
    }
   ],
   "source": [
    "crash_2018.crs"
   ]
  },
  {
   "cell_type": "code",
   "execution_count": 9,
   "metadata": {
    "scrolled": true
   },
   "outputs": [],
   "source": [
    "crash_2018.to_file(os.path.join(data_root, 'crash', 'all', 'crash_2018.shp'))"
   ]
  },
  {
   "cell_type": "code",
   "execution_count": 11,
   "metadata": {},
   "outputs": [],
   "source": [
    "# 2019\n",
    "crash_2019 = pd.read_csv(os.path.join(data_root, 'crash', 'CRASH_2019_Philadelphia.csv'))\n",
    "crash_2019['DEC_LONG'].head()\n",
    "# Cast Variables\n",
    "crash_2019 = crash_2019.astype({'DEC_LAT':'float', 'DEC_LONG':'float'})\n",
    "crash_2019 = gpd.GeoDataFrame(crash_2019, crs={'init':'espg:4326'},\n",
    "                              geometry=[Point(xy) for xy in zip(crash_2019.DEC_LONG, crash_2019.DEC_LAT)])\n",
    "crash_2019.head()\n",
    "crash_2019.to_file(os.path.join(data_root, 'crash', 'all', 'crash_2019.shp'))"
   ]
  },
  {
   "cell_type": "code",
   "execution_count": null,
   "metadata": {},
   "outputs": [],
   "source": []
  }
 ],
 "metadata": {
  "kernelspec": {
   "display_name": "Python 3",
   "language": "python",
   "name": "python3"
  },
  "language_info": {
   "codemirror_mode": {
    "name": "ipython",
    "version": 3
   },
   "file_extension": ".py",
   "mimetype": "text/x-python",
   "name": "python",
   "nbconvert_exporter": "python",
   "pygments_lexer": "ipython3",
   "version": "3.7.7"
  }
 },
 "nbformat": 4,
 "nbformat_minor": 2
}
